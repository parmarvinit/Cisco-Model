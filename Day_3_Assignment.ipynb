{
  "nbformat": 4,
  "nbformat_minor": 0,
  "metadata": {
    "colab": {
      "name": "Day_3_Assignment.ipynb",
      "private_outputs": true,
      "provenance": [],
      "collapsed_sections": [],
      "toc_visible": true,
      "authorship_tag": "ABX9TyP0ZbHOfoJSBMFZQnWqGxaw",
      "include_colab_link": true
    },
    "kernelspec": {
      "name": "python3",
      "display_name": "Python 3"
    },
    "language_info": {
      "name": "python"
    }
  },
  "cells": [
    {
      "cell_type": "markdown",
      "metadata": {
        "id": "view-in-github",
        "colab_type": "text"
      },
      "source": [
        "<a href=\"https://colab.research.google.com/github/vinitparmar16/Cisco-Model/blob/main/Day_3_Assignment.ipynb\" target=\"_parent\"><img src=\"https://colab.research.google.com/assets/colab-badge.svg\" alt=\"Open In Colab\"/></a>"
      ]
    },
    {
      "cell_type": "code",
      "source": [
        "from google.colab import files\n",
        "uploaded = files.upload()"
      ],
      "metadata": {
        "id": "RVmWGAGIw4oW"
      },
      "execution_count": null,
      "outputs": []
    },
    {
      "cell_type": "code",
      "source": [
        "file_name = \"data_description.txt\"\n",
        "uploaded[file_name].decode(\"utf-8\")"
      ],
      "metadata": {
        "id": "XfpMNMtfvELb"
      },
      "execution_count": null,
      "outputs": []
    },
    {
      "cell_type": "code",
      "source": [
        "uploaded[file_name].decode(\"utf-8\").split(\"\\n\")"
      ],
      "metadata": {
        "id": "_xetg8TpwVuF"
      },
      "execution_count": null,
      "outputs": []
    },
    {
      "cell_type": "code",
      "source": [
        "data = uploaded[file_name].decode(\"utf-8\").split(\"\\t\\n\\n\")\n",
        "\n",
        "for   i in range(len(data)):\n",
        "  data[i] = data[i].split(\",\")\n",
        "\n",
        "print(data)"
      ],
      "metadata": {
        "id": "_MgLQiMHxJ4I"
      },
      "execution_count": null,
      "outputs": []
    },
    {
      "cell_type": "code",
      "source": [
        "import pandas as pd\n",
        "\n",
        "\"\"\"read_file = pd.read_csv (file_name)\n",
        "read_file.to_csv (file_csv)\"\"\"\n",
        "data = pd.read_csv(file_name, on_bad_lines='skip')"
      ],
      "metadata": {
        "id": "NBExu4yavEnd"
      },
      "execution_count": null,
      "outputs": []
    },
    {
      "cell_type": "code",
      "source": [
        "print(data)"
      ],
      "metadata": {
        "id": "MC55TDEHyrty"
      },
      "execution_count": null,
      "outputs": []
    },
    {
      "cell_type": "code",
      "source": [
        "#Load the required libraries\n",
        "import pandas as pd\n",
        "import numpy as np\n",
        "import seaborn as sns\n",
        "\n",
        "#View the data\n",
        "data.head()"
      ],
      "metadata": {
        "id": "nFfUcDgHy6wl"
      },
      "execution_count": null,
      "outputs": []
    },
    {
      "cell_type": "code",
      "source": [
        "data.info()"
      ],
      "metadata": {
        "id": "-Gu1oBMUzoIB"
      },
      "execution_count": null,
      "outputs": []
    },
    {
      "cell_type": "code",
      "source": [
        "data.describe()"
      ],
      "metadata": {
        "id": "kj3fXZ8xz5se"
      },
      "execution_count": null,
      "outputs": []
    },
    {
      "cell_type": "code",
      "source": [
        "#Find the duplicates\n",
        "\n",
        "data.duplicated().sum()"
      ],
      "metadata": {
        "id": "iUZMBZ2X0BwE"
      },
      "execution_count": null,
      "outputs": []
    },
    {
      "cell_type": "code",
      "source": [
        "#Find null values\n",
        "\n",
        "data.isnull().sum()"
      ],
      "metadata": {
        "id": "9bagCGj-1eJ3"
      },
      "execution_count": null,
      "outputs": []
    },
    {
      "cell_type": "code",
      "source": [
        "#Replace null values\n",
        "\n",
        "data.replace(np.nan,'0',inplace = True)\n",
        "\n",
        "#Check the changes now\n",
        "data.isnull().sum()"
      ],
      "metadata": {
        "id": "koXRMteX1kmh"
      },
      "execution_count": null,
      "outputs": []
    },
    {
      "cell_type": "code",
      "source": [
        "print(data)"
      ],
      "metadata": {
        "id": "94y9RIFl1n2u"
      },
      "execution_count": null,
      "outputs": []
    },
    {
      "cell_type": "code",
      "source": [
        "#Datatypes\n",
        "\n",
        "data.dtypes"
      ],
      "metadata": {
        "id": "bxcxUWWE1tsN"
      },
      "execution_count": null,
      "outputs": []
    },
    {
      "cell_type": "code",
      "source": [
        "#Correlation \n",
        "\n",
        "data.corr()"
      ],
      "metadata": {
        "id": "WWio89dL11cN"
      },
      "execution_count": null,
      "outputs": []
    },
    {
      "cell_type": "code",
      "source": [
        "#Correlation plot\n",
        "\n",
        "sns.heatmap(data.corr())"
      ],
      "metadata": {
        "id": "XxKNgsMD179c"
      },
      "execution_count": null,
      "outputs": []
    },
    {
      "cell_type": "code",
      "source": [
        "inputs, targets = data.iloc[:, 0:2], data.iloc[:, 2]\n",
        "inputs = pd.get_dummies(inputs, dummy_na=True)\n",
        "print(inputs)"
      ],
      "metadata": {
        "id": "D1Lw-gS55EKl"
      },
      "execution_count": null,
      "outputs": []
    },
    {
      "cell_type": "code",
      "source": [
        "import pandas as pd\n",
        "import numpy as np\n",
        "import matplotlib.pyplot as plt"
      ],
      "metadata": {
        "id": "U1xh8cb15kCc"
      },
      "execution_count": null,
      "outputs": []
    },
    {
      "cell_type": "code",
      "source": [
        "import missingno as msno"
      ],
      "metadata": {
        "id": "FfHRTWQK6H64"
      },
      "execution_count": null,
      "outputs": []
    },
    {
      "cell_type": "code",
      "source": [
        "msno.matrix(data)\n",
        "plt.figure(figsize = (15,9))\n",
        "plt.show()"
      ],
      "metadata": {
        "id": "X9EW5sYQ6bb5"
      },
      "execution_count": null,
      "outputs": []
    },
    {
      "cell_type": "code",
      "source": [
        "msno.heatmap(data, labels = True)"
      ],
      "metadata": {
        "id": "ToycAXrP6bU8"
      },
      "execution_count": null,
      "outputs": []
    },
    {
      "cell_type": "code",
      "source": [
        "# Columns having missing values\n",
        "missing_columns = [col for col in data.columns if data[col].isnull().sum() > 0]\n",
        "missing_columnsmissing_columns"
      ],
      "metadata": {
        "id": "3XYmIPe17KbG"
      },
      "execution_count": null,
      "outputs": []
    },
    {
      "cell_type": "code",
      "source": [
        "msno.dendrogram(data[missing_columns])"
      ],
      "metadata": {
        "id": "5XsmoI1d7Sae"
      },
      "execution_count": null,
      "outputs": []
    },
    {
      "cell_type": "code",
      "source": [
        "# Load the Diabetes dataset\n",
        "columns = \"age sex bmi map tc ldl hdl tch ltg glu\".split() # Declare the columns names\n",
        "diabetes = datasets.load_diabetes() # Call the diabetes dataset from sklearn\n",
        "data = pd.DataFrame(diabetes.data, columns=columns) # load the dataset as a pandas data frame\n",
        "y = diabetes.target # define the target variable (dependent variable) as y"
      ],
      "metadata": {
        "id": "JvEyDaHC9TgU"
      },
      "execution_count": null,
      "outputs": []
    },
    {
      "cell_type": "code",
      "source": [
        "import pandas as pd\n",
        "from sklearn import datasets, linear_model\n",
        "from sklearn.model_selection import train_test_split\n",
        "from matplotlib import pyplot as plt"
      ],
      "metadata": {
        "id": "v7vGok3z81JB"
      },
      "execution_count": null,
      "outputs": []
    },
    {
      "cell_type": "code",
      "source": [
        "# create training and testing vars\n",
        "X_train, X_test, y_train, y_test = train_test_split(data, y, test_size=0.2)\n",
        "print(X_train.shape, y_train.shape)\n",
        "print(X_test.shape, y_test.shape)"
      ],
      "metadata": {
        "id": "jqsilhLr8-ok"
      },
      "execution_count": null,
      "outputs": []
    },
    {
      "cell_type": "code",
      "source": [
        "lm = linear_model.LinearRegression()\n",
        "model = lm.fit(X_train, y_train)\n",
        "predictions = lm.predict(X_test)\n",
        "print(predictions)"
      ],
      "metadata": {
        "id": "-i6S59AV9r9T"
      },
      "execution_count": null,
      "outputs": []
    }
  ]
}